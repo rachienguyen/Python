{
 "cells": [
  {
   "cell_type": "markdown",
   "id": "09690b9e",
   "metadata": {},
   "source": [
    "COMMENTS"
   ]
  },
  {
   "cell_type": "code",
   "execution_count": 3,
   "id": "8c4f850a",
   "metadata": {},
   "outputs": [
    {
     "data": {
      "text/plain": [
       "4"
      ]
     },
     "execution_count": 3,
     "metadata": {},
     "output_type": "execute_result"
    }
   ],
   "source": [
    "#Solve very mathematical expression in Python\n",
    "2+2\n",
    "#3+3"
   ]
  },
  {
   "cell_type": "markdown",
   "id": "c5e0036d",
   "metadata": {},
   "source": [
    "BASIC DATA TYPES"
   ]
  },
  {
   "cell_type": "code",
   "execution_count": 4,
   "id": "f8af5306",
   "metadata": {},
   "outputs": [
    {
     "data": {
      "text/plain": [
       "3"
      ]
     },
     "execution_count": 4,
     "metadata": {},
     "output_type": "execute_result"
    }
   ],
   "source": [
    "5 \n",
    "10\n",
    "3\n",
    "#integer"
   ]
  },
  {
   "cell_type": "code",
   "execution_count": 5,
   "id": "aba5bebc",
   "metadata": {},
   "outputs": [
    {
     "data": {
      "text/plain": [
       "23.1"
      ]
     },
     "execution_count": 5,
     "metadata": {},
     "output_type": "execute_result"
    }
   ],
   "source": [
    "1.23\n",
    "23.4\n",
    "23.1\n",
    "#floating point number"
   ]
  },
  {
   "cell_type": "code",
   "execution_count": 8,
   "id": "0d919b65",
   "metadata": {},
   "outputs": [
    {
     "data": {
      "text/plain": [
       "'Hello world'"
      ]
     },
     "execution_count": 8,
     "metadata": {},
     "output_type": "execute_result"
    }
   ],
   "source": [
    "#string: text be grapped into the double quotes\n",
    "\"Hello world\"\n",
    "\"123.45\" #string that contains a number ( still consider to be a string )"
   ]
  },
  {
   "cell_type": "code",
   "execution_count": 9,
   "id": "4def5a92",
   "metadata": {},
   "outputs": [
    {
     "data": {
      "text/plain": [
       "''"
      ]
     },
     "execution_count": 9,
     "metadata": {},
     "output_type": "execute_result"
    }
   ],
   "source": [
    "\"\" #still a valid string"
   ]
  },
  {
   "cell_type": "code",
   "execution_count": 11,
   "id": "331dff1e",
   "metadata": {},
   "outputs": [
    {
     "data": {
      "text/plain": [
       "False"
      ]
     },
     "execution_count": 11,
     "metadata": {},
     "output_type": "execute_result"
    }
   ],
   "source": [
    "#Boolean \n",
    "True\n",
    "False"
   ]
  },
  {
   "cell_type": "code",
   "execution_count": 12,
   "id": "20ca1643",
   "metadata": {},
   "outputs": [
    {
     "data": {
      "text/plain": [
       "True"
      ]
     },
     "execution_count": 12,
     "metadata": {},
     "output_type": "execute_result"
    }
   ],
   "source": [
    "5<7 #we will get a boolean for an expression of truth, sth is valid or invalid\n"
   ]
  },
  {
   "cell_type": "code",
   "execution_count": 13,
   "id": "481cb614",
   "metadata": {},
   "outputs": [
    {
     "data": {
      "text/plain": [
       "False"
      ]
     },
     "execution_count": 13,
     "metadata": {},
     "output_type": "execute_result"
    }
   ],
   "source": [
    "10>12"
   ]
  },
  {
   "cell_type": "code",
   "execution_count": 15,
   "id": "727fa20a",
   "metadata": {},
   "outputs": [],
   "source": [
    "#Special data type representing Nothingness\n",
    "None "
   ]
  },
  {
   "cell_type": "markdown",
   "id": "23ed1dd8",
   "metadata": {},
   "source": [
    "Operators"
   ]
  },
  {
   "cell_type": "code",
   "execution_count": 16,
   "id": "7c967f48",
   "metadata": {},
   "outputs": [
    {
     "data": {
      "text/plain": [
       "8"
      ]
     },
     "execution_count": 16,
     "metadata": {},
     "output_type": "execute_result"
    }
   ],
   "source": [
    "5+3 #performing some kind of calculations (+), 5 and 3 call operands"
   ]
  },
  {
   "cell_type": "code",
   "execution_count": 17,
   "id": "39efcc8e",
   "metadata": {},
   "outputs": [
    {
     "data": {
      "text/plain": [
       "11.1"
      ]
     },
     "execution_count": 17,
     "metadata": {},
     "output_type": "execute_result"
    }
   ],
   "source": [
    "3.14+7.96\n"
   ]
  },
  {
   "cell_type": "code",
   "execution_count": 19,
   "id": "1727c63e",
   "metadata": {},
   "outputs": [
    {
     "data": {
      "text/plain": [
       "'racecar'"
      ]
     },
     "execution_count": 19,
     "metadata": {},
     "output_type": "execute_result"
    }
   ],
   "source": [
    "#concatenation\n",
    "\"race\"+\"car\""
   ]
  },
  {
   "cell_type": "code",
   "execution_count": 20,
   "id": "798c7bb8",
   "metadata": {},
   "outputs": [
    {
     "data": {
      "text/plain": [
       "5"
      ]
     },
     "execution_count": 20,
     "metadata": {},
     "output_type": "execute_result"
    }
   ],
   "source": [
    "10-5"
   ]
  },
  {
   "cell_type": "code",
   "execution_count": 21,
   "id": "0b1eb924",
   "metadata": {},
   "outputs": [
    {
     "data": {
      "text/plain": [
       "40"
      ]
     },
     "execution_count": 21,
     "metadata": {},
     "output_type": "execute_result"
    }
   ],
   "source": [
    "5*8"
   ]
  },
  {
   "cell_type": "code",
   "execution_count": 23,
   "id": "7f913cda",
   "metadata": {},
   "outputs": [
    {
     "data": {
      "text/plain": [
       "'MahiMahiMahiMahiMahiMahiMahiMahiMahiMahi'"
      ]
     },
     "execution_count": 23,
     "metadata": {},
     "output_type": "execute_result"
    }
   ],
   "source": [
    "\"Mahi\"*10"
   ]
  },
  {
   "cell_type": "code",
   "execution_count": 24,
   "id": "c699d1d3",
   "metadata": {},
   "outputs": [
    {
     "data": {
      "text/plain": [
       "23"
      ]
     },
     "execution_count": 24,
     "metadata": {},
     "output_type": "execute_result"
    }
   ],
   "source": [
    "#PEMDAS \n",
    "#Parenthese Exponents Multiplication Division Addition Substraction \n",
    "3+4*5 "
   ]
  },
  {
   "cell_type": "code",
   "execution_count": 25,
   "id": "c4af76bd",
   "metadata": {},
   "outputs": [
    {
     "data": {
      "text/plain": [
       "35"
      ]
     },
     "execution_count": 25,
     "metadata": {},
     "output_type": "execute_result"
    }
   ],
   "source": [
    "(3+4)*5"
   ]
  },
  {
   "cell_type": "code",
   "execution_count": 26,
   "id": "ccf353ff",
   "metadata": {},
   "outputs": [
    {
     "data": {
      "text/plain": [
       "3.75"
      ]
     },
     "execution_count": 26,
     "metadata": {},
     "output_type": "execute_result"
    }
   ],
   "source": [
    "15/4"
   ]
  },
  {
   "cell_type": "code",
   "execution_count": 27,
   "id": "2f7ee239",
   "metadata": {},
   "outputs": [
    {
     "data": {
      "text/plain": [
       "2.0"
      ]
     },
     "execution_count": 27,
     "metadata": {},
     "output_type": "execute_result"
    }
   ],
   "source": [
    "10/5"
   ]
  },
  {
   "cell_type": "code",
   "execution_count": 28,
   "id": "b5d2b39f",
   "metadata": {},
   "outputs": [
    {
     "data": {
      "text/plain": [
       "3"
      ]
     },
     "execution_count": 28,
     "metadata": {},
     "output_type": "execute_result"
    }
   ],
   "source": [
    "10//3"
   ]
  },
  {
   "cell_type": "code",
   "execution_count": 30,
   "id": "578b3258",
   "metadata": {},
   "outputs": [
    {
     "data": {
      "text/plain": [
       "4"
      ]
     },
     "execution_count": 30,
     "metadata": {},
     "output_type": "execute_result"
    }
   ],
   "source": [
    "14//3 #just chop off the floating number, not rouding the floating number"
   ]
  },
  {
   "cell_type": "code",
   "execution_count": 31,
   "id": "e85ec9f7",
   "metadata": {},
   "outputs": [
    {
     "data": {
      "text/plain": [
       "2"
      ]
     },
     "execution_count": 31,
     "metadata": {},
     "output_type": "execute_result"
    }
   ],
   "source": [
    "14%3"
   ]
  },
  {
   "cell_type": "code",
   "execution_count": 35,
   "id": "e45070dc",
   "metadata": {},
   "outputs": [
    {
     "data": {
      "text/plain": [
       "True"
      ]
     },
     "execution_count": 35,
     "metadata": {},
     "output_type": "execute_result"
    }
   ],
   "source": [
    "#Equality Operator\n",
    "1==1\n",
    "1==2\n",
    "5==5.0\n"
   ]
  },
  {
   "cell_type": "code",
   "execution_count": 37,
   "id": "c2dbc156",
   "metadata": {},
   "outputs": [
    {
     "data": {
      "text/plain": [
       "True"
      ]
     },
     "execution_count": 37,
     "metadata": {},
     "output_type": "execute_result"
    }
   ],
   "source": [
    "\"Hello\"==\"Hello\""
   ]
  },
  {
   "cell_type": "code",
   "execution_count": 39,
   "id": "de8d09d1",
   "metadata": {},
   "outputs": [
    {
     "data": {
      "text/plain": [
       "False"
      ]
     },
     "execution_count": 39,
     "metadata": {},
     "output_type": "execute_result"
    }
   ],
   "source": [
    "\"Hello\"==\"hello\"\n",
    "\"Hello\"==\"Goodbye\""
   ]
  },
  {
   "cell_type": "code",
   "execution_count": 40,
   "id": "27346e21",
   "metadata": {},
   "outputs": [
    {
     "data": {
      "text/plain": [
       "True"
      ]
     },
     "execution_count": 40,
     "metadata": {},
     "output_type": "execute_result"
    }
   ],
   "source": [
    "True==True"
   ]
  },
  {
   "cell_type": "code",
   "execution_count": 42,
   "id": "a745241f",
   "metadata": {},
   "outputs": [
    {
     "data": {
      "text/plain": [
       "False"
      ]
     },
     "execution_count": 42,
     "metadata": {},
     "output_type": "execute_result"
    }
   ],
   "source": [
    "True==False"
   ]
  },
  {
   "cell_type": "code",
   "execution_count": 43,
   "id": "f9335aea",
   "metadata": {},
   "outputs": [
    {
     "data": {
      "text/plain": [
       "False"
      ]
     },
     "execution_count": 43,
     "metadata": {},
     "output_type": "execute_result"
    }
   ],
   "source": [
    "False==True\n"
   ]
  },
  {
   "cell_type": "code",
   "execution_count": null,
   "id": "b90de321",
   "metadata": {},
   "outputs": [],
   "source": [
    "#Inequality !="
   ]
  },
  {
   "cell_type": "code",
   "execution_count": 45,
   "id": "77c40ae5",
   "metadata": {},
   "outputs": [
    {
     "data": {
      "text/plain": [
       "True"
      ]
     },
     "execution_count": 45,
     "metadata": {},
     "output_type": "execute_result"
    }
   ],
   "source": [
    "5!=10\n",
    "\"Hello\"!=\"Bye\""
   ]
  },
  {
   "cell_type": "code",
   "execution_count": 46,
   "id": "dd825e41",
   "metadata": {},
   "outputs": [
    {
     "data": {
      "text/plain": [
       "False"
      ]
     },
     "execution_count": 46,
     "metadata": {},
     "output_type": "execute_result"
    }
   ],
   "source": [
    "5!=5"
   ]
  },
  {
   "cell_type": "code",
   "execution_count": 49,
   "id": "8ebde69e",
   "metadata": {},
   "outputs": [
    {
     "data": {
      "text/plain": [
       "True"
      ]
     },
     "execution_count": 49,
     "metadata": {},
     "output_type": "execute_result"
    }
   ],
   "source": [
    "5<8\n",
    "5>=8\n",
    "5>=5\n",
    "5<=8"
   ]
  },
  {
   "cell_type": "code",
   "execution_count": 50,
   "id": "85212c38",
   "metadata": {},
   "outputs": [
    {
     "data": {
      "text/plain": [
       "False"
      ]
     },
     "execution_count": 50,
     "metadata": {},
     "output_type": "execute_result"
    }
   ],
   "source": [
    "14>20\n"
   ]
  },
  {
   "cell_type": "markdown",
   "id": "dd0e78b3",
   "metadata": {},
   "source": [
    "VARIABLES"
   ]
  },
  {
   "cell_type": "code",
   "execution_count": 51,
   "id": "93267ad4",
   "metadata": {},
   "outputs": [
    {
     "data": {
      "text/plain": [
       "29"
      ]
     },
     "execution_count": 51,
     "metadata": {},
     "output_type": "execute_result"
    }
   ],
   "source": [
    "age=29\n",
    "age"
   ]
  },
  {
   "cell_type": "code",
   "execution_count": 52,
   "id": "aceeea92",
   "metadata": {},
   "outputs": [
    {
     "data": {
      "text/plain": [
       "33"
      ]
     },
     "execution_count": 52,
     "metadata": {},
     "output_type": "execute_result"
    }
   ],
   "source": [
    "age+4"
   ]
  },
  {
   "cell_type": "code",
   "execution_count": 62,
   "id": "f23de918",
   "metadata": {},
   "outputs": [
    {
     "data": {
      "text/plain": [
       "True"
      ]
     },
     "execution_count": 62,
     "metadata": {},
     "output_type": "execute_result"
    }
   ],
   "source": [
    "price=29 \n",
    "name='boris'\n",
    "professional='software engineer'\n",
    "is_handsome=True\n",
    "is_handsome"
   ]
  },
  {
   "cell_type": "code",
   "execution_count": 63,
   "id": "8f064534",
   "metadata": {},
   "outputs": [
    {
     "data": {
      "text/plain": [
       "'boris is handsome'"
      ]
     },
     "execution_count": 63,
     "metadata": {},
     "output_type": "execute_result"
    }
   ],
   "source": [
    "name+\" is handsome\""
   ]
  },
  {
   "cell_type": "code",
   "execution_count": 64,
   "id": "19418991",
   "metadata": {},
   "outputs": [
    {
     "data": {
      "text/plain": [
       "33"
      ]
     },
     "execution_count": 64,
     "metadata": {},
     "output_type": "execute_result"
    }
   ],
   "source": [
    "price=price+4\n",
    "price"
   ]
  },
  {
   "cell_type": "markdown",
   "id": "6bdcfd0b",
   "metadata": {},
   "source": [
    "BUILT-IN FUNCTION"
   ]
  },
  {
   "cell_type": "code",
   "execution_count": 65,
   "id": "188a889a",
   "metadata": {},
   "outputs": [
    {
     "data": {
      "text/plain": [
       "29"
      ]
     },
     "execution_count": 65,
     "metadata": {},
     "output_type": "execute_result"
    }
   ],
   "source": [
    "len(\"How many characters in this? \")"
   ]
  },
  {
   "cell_type": "code",
   "execution_count": 69,
   "id": "3de5fc42",
   "metadata": {},
   "outputs": [
    {
     "data": {
      "text/plain": [
       "'2.14'"
      ]
     },
     "execution_count": 69,
     "metadata": {},
     "output_type": "execute_result"
    }
   ],
   "source": [
    "str(2.14)"
   ]
  },
  {
   "cell_type": "code",
   "execution_count": 71,
   "id": "7bc2927c",
   "metadata": {},
   "outputs": [
    {
     "data": {
      "text/plain": [
       "2"
      ]
     },
     "execution_count": 71,
     "metadata": {},
     "output_type": "execute_result"
    }
   ],
   "source": [
    "int(\"2\")"
   ]
  },
  {
   "cell_type": "code",
   "execution_count": 72,
   "id": "0ceb523c",
   "metadata": {},
   "outputs": [
    {
     "data": {
      "text/plain": [
       "9.345"
      ]
     },
     "execution_count": 72,
     "metadata": {},
     "output_type": "execute_result"
    }
   ],
   "source": [
    "float(\"9.345\")"
   ]
  },
  {
   "cell_type": "code",
   "execution_count": 73,
   "id": "d7a063d3",
   "metadata": {},
   "outputs": [
    {
     "data": {
      "text/plain": [
       "int"
      ]
     },
     "execution_count": 73,
     "metadata": {},
     "output_type": "execute_result"
    }
   ],
   "source": [
    "type(5)"
   ]
  },
  {
   "cell_type": "code",
   "execution_count": 74,
   "id": "b23f7312",
   "metadata": {},
   "outputs": [
    {
     "data": {
      "text/plain": [
       "float"
      ]
     },
     "execution_count": 74,
     "metadata": {},
     "output_type": "execute_result"
    }
   ],
   "source": [
    "type(3.14)"
   ]
  },
  {
   "cell_type": "code",
   "execution_count": 75,
   "id": "c6f620ea",
   "metadata": {},
   "outputs": [
    {
     "data": {
      "text/plain": [
       "str"
      ]
     },
     "execution_count": 75,
     "metadata": {},
     "output_type": "execute_result"
    }
   ],
   "source": [
    "type(\"PlayStation\")"
   ]
  },
  {
   "cell_type": "code",
   "execution_count": 76,
   "id": "fe4ecf7d",
   "metadata": {},
   "outputs": [
    {
     "data": {
      "text/plain": [
       "bool"
      ]
     },
     "execution_count": 76,
     "metadata": {},
     "output_type": "execute_result"
    }
   ],
   "source": [
    "type(True)"
   ]
  },
  {
   "cell_type": "code",
   "execution_count": 77,
   "id": "36b1e7d0",
   "metadata": {},
   "outputs": [
    {
     "data": {
      "text/plain": [
       "NoneType"
      ]
     },
     "execution_count": 77,
     "metadata": {},
     "output_type": "execute_result"
    }
   ],
   "source": [
    "type(None)"
   ]
  },
  {
   "cell_type": "code",
   "execution_count": 78,
   "id": "9c89d7c7",
   "metadata": {},
   "outputs": [
    {
     "data": {
      "text/plain": [
       "True"
      ]
     },
     "execution_count": 78,
     "metadata": {},
     "output_type": "execute_result"
    }
   ],
   "source": [
    "type(10)==type(15)"
   ]
  },
  {
   "cell_type": "code",
   "execution_count": 80,
   "id": "c187309e",
   "metadata": {},
   "outputs": [
    {
     "data": {
      "text/plain": [
       "False"
      ]
     },
     "execution_count": 80,
     "metadata": {},
     "output_type": "execute_result"
    }
   ],
   "source": [
    "type(10)==type(\"10\")"
   ]
  },
  {
   "cell_type": "code",
   "execution_count": 93,
   "id": "35cc8bb4",
   "metadata": {},
   "outputs": [],
   "source": [
    "#Declare a function that accept temparture in C and return into F\n",
    "def convert_to_fahrenheit(celcius_temp):\n",
    "    product= celcius_temp*1.8\n",
    "    return product + 32"
   ]
  },
  {
   "cell_type": "code",
   "execution_count": 94,
   "id": "2d581a74",
   "metadata": {},
   "outputs": [
    {
     "data": {
      "text/plain": [
       "35.6"
      ]
     },
     "execution_count": 94,
     "metadata": {},
     "output_type": "execute_result"
    }
   ],
   "source": [
    "convert_to_fahrenheit(2)"
   ]
  },
  {
   "cell_type": "code",
   "execution_count": 96,
   "id": "958d5fa6",
   "metadata": {},
   "outputs": [
    {
     "data": {
      "text/plain": [
       "53.6"
      ]
     },
     "execution_count": 96,
     "metadata": {},
     "output_type": "execute_result"
    }
   ],
   "source": [
    "convert_to_fahrenheit(celcius_temp=12)"
   ]
  },
  {
   "cell_type": "code",
   "execution_count": 97,
   "id": "746cd455",
   "metadata": {},
   "outputs": [
    {
     "data": {
      "text/plain": [
       "55.400000000000006"
      ]
     },
     "execution_count": 97,
     "metadata": {},
     "output_type": "execute_result"
    }
   ],
   "source": [
    "convert_to_fahrenheit(celcius_temp=13)"
   ]
  },
  {
   "cell_type": "code",
   "execution_count": 101,
   "id": "6f2a7c8a",
   "metadata": {},
   "outputs": [],
   "source": [
    "def convert_to_fahrenheit(celcius_temp=11):\n",
    "    product= celcius_temp*1.8\n",
    "    return product + 32"
   ]
  },
  {
   "cell_type": "code",
   "execution_count": 102,
   "id": "a24f9d5a",
   "metadata": {},
   "outputs": [
    {
     "data": {
      "text/plain": [
       "51.8"
      ]
     },
     "execution_count": 102,
     "metadata": {},
     "output_type": "execute_result"
    }
   ],
   "source": [
    "convert_to_fahrenheit()"
   ]
  },
  {
   "cell_type": "code",
   "execution_count": 103,
   "id": "ba939756",
   "metadata": {},
   "outputs": [
    {
     "data": {
      "text/plain": [
       "212.0"
      ]
     },
     "execution_count": 103,
     "metadata": {},
     "output_type": "execute_result"
    }
   ],
   "source": [
    "convert_to_fahrenheit(100)"
   ]
  },
  {
   "cell_type": "markdown",
   "id": "8d67b3e1",
   "metadata": {},
   "source": [
    "STRING METHODS"
   ]
  },
  {
   "cell_type": "code",
   "execution_count": 4,
   "id": "f4da42cb",
   "metadata": {},
   "outputs": [],
   "source": [
    "profession=\"developer\""
   ]
  },
  {
   "cell_type": "code",
   "execution_count": 10,
   "id": "6296b7b7",
   "metadata": {},
   "outputs": [
    {
     "data": {
      "text/plain": [
       "'DEVELOPER'"
      ]
     },
     "execution_count": 10,
     "metadata": {},
     "output_type": "execute_result"
    }
   ],
   "source": [
    "profession.upper()"
   ]
  },
  {
   "cell_type": "code",
   "execution_count": 11,
   "id": "a137f013",
   "metadata": {},
   "outputs": [
    {
     "data": {
      "text/plain": [
       "'developer'"
      ]
     },
     "execution_count": 11,
     "metadata": {},
     "output_type": "execute_result"
    }
   ],
   "source": [
    "profession.lower()"
   ]
  },
  {
   "cell_type": "code",
   "execution_count": 12,
   "id": "a7bc0b24",
   "metadata": {},
   "outputs": [
    {
     "data": {
      "text/plain": [
       "'DEVELOPER'"
      ]
     },
     "execution_count": 12,
     "metadata": {},
     "output_type": "execute_result"
    }
   ],
   "source": [
    "profession.swapcase()"
   ]
  },
  {
   "cell_type": "code",
   "execution_count": null,
   "id": "60316da3",
   "metadata": {},
   "outputs": [],
   "source": [
    "#immutable-can not change\n",
    "#mutable-capable to change\n",
    "\n",
    "#string is immutable"
   ]
  },
  {
   "cell_type": "code",
   "execution_count": 13,
   "id": "dc304927",
   "metadata": {},
   "outputs": [
    {
     "data": {
      "text/plain": [
       "'Once Upon A Time'"
      ]
     },
     "execution_count": 13,
     "metadata": {},
     "output_type": "execute_result"
    }
   ],
   "source": [
    "\"once upon a time\".title()"
   ]
  },
  {
   "cell_type": "code",
   "execution_count": 14,
   "id": "ce6b315d",
   "metadata": {},
   "outputs": [
    {
     "data": {
      "text/plain": [
       "'Once upon a time'"
      ]
     },
     "execution_count": 14,
     "metadata": {},
     "output_type": "execute_result"
    }
   ],
   "source": [
    "\"once upon a time\".capitalize()"
   ]
  },
  {
   "cell_type": "code",
   "execution_count": 15,
   "id": "2cc40297",
   "metadata": {},
   "outputs": [
    {
     "data": {
      "text/plain": [
       "'Hello World'"
      ]
     },
     "execution_count": 15,
     "metadata": {},
     "output_type": "execute_result"
    }
   ],
   "source": [
    "\"hello world\".title()"
   ]
  },
  {
   "cell_type": "code",
   "execution_count": 17,
   "id": "142a2f5f",
   "metadata": {},
   "outputs": [],
   "source": [
    "profession=\"          developer           \""
   ]
  },
  {
   "cell_type": "code",
   "execution_count": 18,
   "id": "ea2997c9",
   "metadata": {},
   "outputs": [
    {
     "data": {
      "text/plain": [
       "'developer           '"
      ]
     },
     "execution_count": 18,
     "metadata": {},
     "output_type": "execute_result"
    }
   ],
   "source": [
    "profession.lstrip()"
   ]
  },
  {
   "cell_type": "code",
   "execution_count": 19,
   "id": "64c59cb9",
   "metadata": {},
   "outputs": [
    {
     "data": {
      "text/plain": [
       "'          developer'"
      ]
     },
     "execution_count": 19,
     "metadata": {},
     "output_type": "execute_result"
    }
   ],
   "source": [
    "profession.rstrip()"
   ]
  },
  {
   "cell_type": "code",
   "execution_count": 20,
   "id": "2db754e6",
   "metadata": {},
   "outputs": [
    {
     "data": {
      "text/plain": [
       "'developer'"
      ]
     },
     "execution_count": 20,
     "metadata": {},
     "output_type": "execute_result"
    }
   ],
   "source": [
    "profession.strip()"
   ]
  },
  {
   "cell_type": "code",
   "execution_count": 21,
   "id": "e4819470",
   "metadata": {},
   "outputs": [
    {
     "data": {
      "text/plain": [
       "'          drvrloprr           '"
      ]
     },
     "execution_count": 21,
     "metadata": {},
     "output_type": "execute_result"
    }
   ],
   "source": [
    "profession.replace(\"e\",\"r\") # replace 'e' with 'r'"
   ]
  },
  {
   "cell_type": "code",
   "execution_count": 23,
   "id": "b71dc1cd",
   "metadata": {},
   "outputs": [
    {
     "data": {
      "text/plain": [
       "'d*v*lop*r'"
      ]
     },
     "execution_count": 23,
     "metadata": {},
     "output_type": "execute_result"
    }
   ],
   "source": [
    "#method chain\n",
    "profession.strip().replace('e','*')"
   ]
  },
  {
   "cell_type": "code",
   "execution_count": 25,
   "id": "3aa60d8e",
   "metadata": {},
   "outputs": [],
   "source": [
    "animal='dinosaur'"
   ]
  },
  {
   "cell_type": "code",
   "execution_count": 28,
   "id": "128bf228",
   "metadata": {},
   "outputs": [
    {
     "data": {
      "text/plain": [
       "False"
      ]
     },
     "execution_count": 28,
     "metadata": {},
     "output_type": "execute_result"
    }
   ],
   "source": [
    "animal.startswith('Dino')"
   ]
  },
  {
   "cell_type": "code",
   "execution_count": 29,
   "id": "bbba7746",
   "metadata": {},
   "outputs": [
    {
     "data": {
      "text/plain": [
       "True"
      ]
     },
     "execution_count": 29,
     "metadata": {},
     "output_type": "execute_result"
    }
   ],
   "source": [
    "animal.endswith(\"r\")"
   ]
  },
  {
   "cell_type": "code",
   "execution_count": 30,
   "id": "3f0a26c5",
   "metadata": {},
   "outputs": [
    {
     "data": {
      "text/plain": [
       "True"
      ]
     },
     "execution_count": 30,
     "metadata": {},
     "output_type": "execute_result"
    }
   ],
   "source": [
    "'r' in animal"
   ]
  },
  {
   "cell_type": "code",
   "execution_count": 31,
   "id": "9b6370bb",
   "metadata": {},
   "outputs": [
    {
     "data": {
      "text/plain": [
       "False"
      ]
     },
     "execution_count": 31,
     "metadata": {},
     "output_type": "execute_result"
    }
   ],
   "source": [
    "'z' in animal"
   ]
  },
  {
   "cell_type": "code",
   "execution_count": 32,
   "id": "0cf4cfdd",
   "metadata": {},
   "outputs": [
    {
     "data": {
      "text/plain": [
       "True"
      ]
     },
     "execution_count": 32,
     "metadata": {},
     "output_type": "execute_result"
    }
   ],
   "source": [
    "'z' not in animal"
   ]
  },
  {
   "cell_type": "code",
   "execution_count": 33,
   "id": "e6fb1b39",
   "metadata": {},
   "outputs": [
    {
     "data": {
      "text/plain": [
       "False"
      ]
     },
     "execution_count": 33,
     "metadata": {},
     "output_type": "execute_result"
    }
   ],
   "source": [
    "'a' not in animal"
   ]
  },
  {
   "cell_type": "code",
   "execution_count": 38,
   "id": "716eedee",
   "metadata": {},
   "outputs": [],
   "source": [
    "attending=\"ron\",'nhi'\n",
    "is_attending='ron' in attending"
   ]
  },
  {
   "cell_type": "markdown",
   "id": "74734a05",
   "metadata": {},
   "source": [
    "LIST"
   ]
  },
  {
   "cell_type": "code",
   "execution_count": 44,
   "id": "b4fc41ae",
   "metadata": {},
   "outputs": [
    {
     "data": {
      "text/plain": [
       "3"
      ]
     },
     "execution_count": 44,
     "metadata": {},
     "output_type": "execute_result"
    }
   ],
   "source": [
    "attendees=['Michael','Rachel','Andree']\n",
    "len(attendees)"
   ]
  },
  {
   "cell_type": "code",
   "execution_count": 45,
   "id": "cf9d43f3",
   "metadata": {},
   "outputs": [
    {
     "data": {
      "text/plain": [
       "['Michael', 'Rachel', 'Andree', 'Nhi']"
      ]
     },
     "execution_count": 45,
     "metadata": {},
     "output_type": "execute_result"
    }
   ],
   "source": [
    "#List is mutable\n",
    "attendees.append(\"Nhi\")\n",
    "attendees\n"
   ]
  },
  {
   "cell_type": "code",
   "execution_count": null,
   "id": "1f950c96",
   "metadata": {},
   "outputs": [],
   "source": [
    "attendees"
   ]
  },
  {
   "cell_type": "code",
   "execution_count": 46,
   "id": "b4ab8a34",
   "metadata": {},
   "outputs": [
    {
     "data": {
      "text/plain": [
       "'caramel'"
      ]
     },
     "execution_count": 46,
     "metadata": {},
     "output_type": "execute_result"
    }
   ],
   "source": [
    "popcorn=['salted','unsalted','caramel']\n",
    "popcorn.pop()  #this pop the last element\n",
    "#pop cho list thì chỉ pop được at specific position. "
   ]
  },
  {
   "cell_type": "code",
   "execution_count": 47,
   "id": "87c3a9c6",
   "metadata": {},
   "outputs": [
    {
     "data": {
      "text/plain": [
       "['salted', 'unsalted']"
      ]
     },
     "execution_count": 47,
     "metadata": {},
     "output_type": "execute_result"
    }
   ],
   "source": [
    "popcorn #mutable"
   ]
  },
  {
   "cell_type": "code",
   "execution_count": 48,
   "id": "7b1bfc4a",
   "metadata": {},
   "outputs": [],
   "source": [
    "popcorn.remove(\"salted\")  #this remove specific elements"
   ]
  },
  {
   "cell_type": "code",
   "execution_count": 49,
   "id": "66a4cc60",
   "metadata": {},
   "outputs": [
    {
     "data": {
      "text/plain": [
       "['unsalted']"
      ]
     },
     "execution_count": 49,
     "metadata": {},
     "output_type": "execute_result"
    }
   ],
   "source": [
    "popcorn"
   ]
  },
  {
   "cell_type": "code",
   "execution_count": 53,
   "id": "0d0deec5",
   "metadata": {},
   "outputs": [
    {
     "data": {
      "text/plain": [
       "True"
      ]
     },
     "execution_count": 53,
     "metadata": {},
     "output_type": "execute_result"
    }
   ],
   "source": [
    "planets=['earth','jupiter','pluto']\n",
    "'pluto' in planets\n",
    "    "
   ]
  },
  {
   "cell_type": "code",
   "execution_count": 54,
   "id": "30a7e0d7",
   "metadata": {},
   "outputs": [
    {
     "data": {
      "text/plain": [
       "True"
      ]
     },
     "execution_count": 54,
     "metadata": {},
     "output_type": "execute_result"
    }
   ],
   "source": [
    "'mars' not in planets"
   ]
  },
  {
   "cell_type": "markdown",
   "id": "a271f511",
   "metadata": {},
   "source": [
    "DICTIONARIES ( ASSIOCiATION BETWEEN THINGS )"
   ]
  },
  {
   "cell_type": "code",
   "execution_count": 90,
   "id": "ccfd65d2",
   "metadata": {},
   "outputs": [],
   "source": [
    "menu={\n",
    "    'bigmac': 3.44,\n",
    "    'mcdonald': 4.99\n",
    "}"
   ]
  },
  {
   "cell_type": "code",
   "execution_count": 91,
   "id": "f9c99f26",
   "metadata": {},
   "outputs": [
    {
     "data": {
      "text/plain": [
       "{'bigmac': 3.44, 'mcdonald': 4.99}"
      ]
     },
     "execution_count": 91,
     "metadata": {},
     "output_type": "execute_result"
    }
   ],
   "source": [
    "#pop for dict, we can use 'key' to specifize the specific pair that we want to remove\n",
    "menu"
   ]
  },
  {
   "cell_type": "code",
   "execution_count": 92,
   "id": "9be77ab1",
   "metadata": {},
   "outputs": [
    {
     "data": {
      "text/plain": [
       "2"
      ]
     },
     "execution_count": 92,
     "metadata": {},
     "output_type": "execute_result"
    }
   ],
   "source": [
    "len(menu)"
   ]
  },
  {
   "cell_type": "code",
   "execution_count": 93,
   "id": "2bb19d36",
   "metadata": {},
   "outputs": [
    {
     "data": {
      "text/plain": [
       "3.44"
      ]
     },
     "execution_count": 93,
     "metadata": {},
     "output_type": "execute_result"
    }
   ],
   "source": [
    "menu['bigmac']"
   ]
  },
  {
   "cell_type": "code",
   "execution_count": 94,
   "id": "9c093fc7",
   "metadata": {},
   "outputs": [],
   "source": [
    "menu['kfc']=13.99 #mutable-> append new key-value pairs"
   ]
  },
  {
   "cell_type": "code",
   "execution_count": 95,
   "id": "4d0c22da",
   "metadata": {},
   "outputs": [
    {
     "data": {
      "text/plain": [
       "{'bigmac': 3.44, 'mcdonald': 4.99, 'kfc': 13.99}"
      ]
     },
     "execution_count": 95,
     "metadata": {},
     "output_type": "execute_result"
    }
   ],
   "source": [
    "menu"
   ]
  },
  {
   "cell_type": "code",
   "execution_count": 96,
   "id": "1a8e9adf",
   "metadata": {},
   "outputs": [
    {
     "data": {
      "text/plain": [
       "True"
      ]
     },
     "execution_count": 96,
     "metadata": {},
     "output_type": "execute_result"
    }
   ],
   "source": [
    "'pizza' not in menu"
   ]
  },
  {
   "cell_type": "code",
   "execution_count": 97,
   "id": "d445a4bd",
   "metadata": {},
   "outputs": [
    {
     "data": {
      "text/plain": [
       "True"
      ]
     },
     "execution_count": 97,
     "metadata": {},
     "output_type": "execute_result"
    }
   ],
   "source": [
    "'kfc' in menu"
   ]
  },
  {
   "cell_type": "code",
   "execution_count": 98,
   "id": "63c61da9",
   "metadata": {},
   "outputs": [
    {
     "data": {
      "text/plain": [
       "True"
      ]
     },
     "execution_count": 98,
     "metadata": {},
     "output_type": "execute_result"
    }
   ],
   "source": [
    "4.99 in menu.values()"
   ]
  },
  {
   "cell_type": "code",
   "execution_count": 99,
   "id": "02f072d3",
   "metadata": {},
   "outputs": [
    {
     "data": {
      "text/plain": [
       "{'bigmac': 3.44, 'mcdonald': 4.99, 'kfc': 13.99}"
      ]
     },
     "execution_count": 99,
     "metadata": {},
     "output_type": "execute_result"
    }
   ],
   "source": [
    "menu"
   ]
  },
  {
   "cell_type": "code",
   "execution_count": 100,
   "id": "559cebe7",
   "metadata": {},
   "outputs": [
    {
     "data": {
      "text/plain": [
       "13.99"
      ]
     },
     "execution_count": 100,
     "metadata": {},
     "output_type": "execute_result"
    }
   ],
   "source": [
    "menu.pop('kfc')  #trong dict chỉ có pop method, không có remove"
   ]
  },
  {
   "cell_type": "code",
   "execution_count": 101,
   "id": "4d2a4e8a",
   "metadata": {},
   "outputs": [
    {
     "data": {
      "text/plain": [
       "{'bigmac': 3.44, 'mcdonald': 4.99}"
      ]
     },
     "execution_count": 101,
     "metadata": {},
     "output_type": "execute_result"
    }
   ],
   "source": [
    "menu"
   ]
  },
  {
   "cell_type": "code",
   "execution_count": 104,
   "id": "5cdbca97",
   "metadata": {},
   "outputs": [
    {
     "data": {
      "text/plain": [
       "['ninh', 'nhi']"
      ]
     },
     "execution_count": 104,
     "metadata": {},
     "output_type": "execute_result"
    }
   ],
   "source": [
    "list=['nhi','ninh','nhi']\n",
    "list.remove('nhi')\n",
    "list\n",
    "#remove: remove the first occurence of the value "
   ]
  },
  {
   "cell_type": "code",
   "execution_count": 106,
   "id": "f818cf4b",
   "metadata": {},
   "outputs": [
    {
     "data": {
      "text/plain": [
       "'nhi'"
      ]
     },
     "execution_count": 106,
     "metadata": {},
     "output_type": "execute_result"
    }
   ],
   "source": [
    " #pop for dict, we can use 'key' to specifize the specific pair that we want to remove"
   ]
  },
  {
   "cell_type": "code",
   "execution_count": null,
   "id": "3ef6ebc3",
   "metadata": {},
   "outputs": [],
   "source": []
  }
 ],
 "metadata": {
  "kernelspec": {
   "display_name": "Python 3 (ipykernel)",
   "language": "python",
   "name": "python3"
  },
  "language_info": {
   "codemirror_mode": {
    "name": "ipython",
    "version": 3
   },
   "file_extension": ".py",
   "mimetype": "text/x-python",
   "name": "python",
   "nbconvert_exporter": "python",
   "pygments_lexer": "ipython3",
   "version": "3.11.4"
  }
 },
 "nbformat": 4,
 "nbformat_minor": 5
}
