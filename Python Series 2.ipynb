{
 "cells": [
  {
   "cell_type": "code",
   "execution_count": 17,
   "id": "75252d0c",
   "metadata": {},
   "outputs": [],
   "source": [
    "#import Series using pd.read_csv Function:\n",
    "import pandas as pd\n",
    "#squeeze METHOD:\n",
    "pokemon=pd.read_csv(\"pokemon.csv\",usecols=[\"Pokemon\"]).squeeze(\"columns\")\n",
    "google=pd.read_csv(\"google_stock_price.csv\",usecols=[\"Stock Price\"]).squeeze(\"columns\")"
   ]
  },
  {
   "cell_type": "markdown",
   "id": "8d9dd6f4",
   "metadata": {},
   "source": [
    "HEAD AND TAIL METHODS ON SERIES"
   ]
  },
  {
   "cell_type": "code",
   "execution_count": 18,
   "id": "f0d3b3b2",
   "metadata": {},
   "outputs": [
    {
     "data": {
      "text/plain": [
       "0     Bulbasaur\n",
       "1       Ivysaur\n",
       "2      Venusaur\n",
       "3    Charmander\n",
       "4    Charmeleon\n",
       "Name: Pokemon, dtype: object"
      ]
     },
     "execution_count": 18,
     "metadata": {},
     "output_type": "execute_result"
    }
   ],
   "source": [
    "pokemon.head(5)"
   ]
  },
  {
   "cell_type": "code",
   "execution_count": 19,
   "id": "0c3cb7b2",
   "metadata": {},
   "outputs": [
    {
     "data": {
      "text/plain": [
       "0     Bulbasaur\n",
       "1       Ivysaur\n",
       "2      Venusaur\n",
       "3    Charmander\n",
       "4    Charmeleon\n",
       "Name: Pokemon, dtype: object"
      ]
     },
     "execution_count": 19,
     "metadata": {},
     "output_type": "execute_result"
    }
   ],
   "source": [
    "pokemon.head(n=5)"
   ]
  },
  {
   "cell_type": "code",
   "execution_count": 20,
   "id": "1742fb87",
   "metadata": {},
   "outputs": [
    {
     "data": {
      "text/plain": [
       "0        50.12\n",
       "1        54.10\n",
       "2        54.65\n",
       "3        52.38\n",
       "4        52.95\n",
       "         ...  \n",
       "3007    772.88\n",
       "3008    771.07\n",
       "3009    773.18\n",
       "3010    771.61\n",
       "3011    782.22\n",
       "Name: Stock Price, Length: 3012, dtype: float64"
      ]
     },
     "execution_count": 20,
     "metadata": {},
     "output_type": "execute_result"
    }
   ],
   "source": [
    "google"
   ]
  },
  {
   "cell_type": "code",
   "execution_count": 21,
   "id": "5513cfe1",
   "metadata": {},
   "outputs": [
    {
     "data": {
      "text/plain": [
       "3007    772.88\n",
       "3008    771.07\n",
       "3009    773.18\n",
       "3010    771.61\n",
       "3011    782.22\n",
       "Name: Stock Price, dtype: float64"
      ]
     },
     "execution_count": 21,
     "metadata": {},
     "output_type": "execute_result"
    }
   ],
   "source": [
    "google.tail(5)"
   ]
  },
  {
   "cell_type": "code",
   "execution_count": 22,
   "id": "aa825be2",
   "metadata": {},
   "outputs": [
    {
     "data": {
      "text/plain": [
       "3008    771.07\n",
       "3009    773.18\n",
       "3010    771.61\n",
       "3011    782.22\n",
       "Name: Stock Price, dtype: float64"
      ]
     },
     "execution_count": 22,
     "metadata": {},
     "output_type": "execute_result"
    }
   ],
   "source": [
    "google.tail(n=4)"
   ]
  },
  {
   "cell_type": "code",
   "execution_count": 23,
   "id": "37515d9a",
   "metadata": {},
   "outputs": [],
   "source": [
    "#Remember that this is not a copy or a seperate new data structures from the original data set but it is a view or lens looking "
   ]
  },
  {
   "cell_type": "code",
   "execution_count": 24,
   "id": "dbe22457",
   "metadata": {},
   "outputs": [],
   "source": [
    "#at different part of the original data set so when we manipulate the view we can accidently manipulate the original one"
   ]
  },
  {
   "cell_type": "code",
   "execution_count": 6,
   "id": "2ebdc18e",
   "metadata": {},
   "outputs": [
    {
     "data": {
      "text/plain": [
       "11       49.95\n",
       "9        50.07\n",
       "0        50.12\n",
       "10       50.70\n",
       "12       50.74\n",
       "         ...  \n",
       "3010    771.61\n",
       "3007    772.88\n",
       "3009    773.18\n",
       "2859    776.60\n",
       "3011    782.22\n",
       "Name: Stock Price, Length: 3012, dtype: float64"
      ]
     },
     "execution_count": 6,
     "metadata": {},
     "output_type": "execute_result"
    }
   ],
   "source": [
    "import pandas as pd\n",
    "google=pd.read_csv(\"google_stock_price.csv\").squeeze()\n",
    "google.sort_values(ascending=True)"
   ]
  },
  {
   "cell_type": "code",
   "execution_count": 11,
   "id": "71b586db",
   "metadata": {},
   "outputs": [
    {
     "data": {
      "text/plain": [
       "Pokemon\n",
       "Bulbasaur       Grass\n",
       "Ivysaur         Grass\n",
       "Venusaur        Grass\n",
       "Charmander       Fire\n",
       "Charmeleon       Fire\n",
       "               ...   \n",
       "Yveltal          Dark\n",
       "Zygarde        Dragon\n",
       "Diancie          Rock\n",
       "Hoopa         Psychic\n",
       "Volcanion        Fire\n",
       "Name: Type, Length: 721, dtype: object"
      ]
     },
     "execution_count": 11,
     "metadata": {},
     "output_type": "execute_result"
    }
   ],
   "source": [
    "pokemon=pd.read_csv(\"pokemon.csv\",index_col=\"Pokemon\").squeeze()"
   ]
  },
  {
   "cell_type": "code",
   "execution_count": 12,
   "id": "75febf61",
   "metadata": {},
   "outputs": [
    {
     "data": {
      "text/plain": [
       "Pokemon\n",
       "Bulbasaur     Grass\n",
       "Ivysaur       Grass\n",
       "Venusaur      Grass\n",
       "Charmander     Fire\n",
       "Charmeleon     Fire\n",
       "Name: Type, dtype: object"
      ]
     },
     "execution_count": 12,
     "metadata": {},
     "output_type": "execute_result"
    }
   ],
   "source": [
    "pokemon.head()"
   ]
  },
  {
   "cell_type": "code",
   "execution_count": 13,
   "id": "2aae6a70",
   "metadata": {},
   "outputs": [
    {
     "data": {
      "text/plain": [
       "Pokemon\n",
       "Abomasnow      Grass\n",
       "Abra         Psychic\n",
       "Absol           Dark\n",
       "Accelgor         Bug\n",
       "Aegislash      Steel\n",
       "              ...   \n",
       "Zoroark         Dark\n",
       "Zorua           Dark\n",
       "Zubat         Poison\n",
       "Zweilous        Dark\n",
       "Zygarde       Dragon\n",
       "Name: Type, Length: 721, dtype: object"
      ]
     },
     "execution_count": 13,
     "metadata": {},
     "output_type": "execute_result"
    }
   ],
   "source": [
    "pokemon.sort_index(ascending=True)"
   ]
  },
  {
   "cell_type": "code",
   "execution_count": 17,
   "id": "4b7744c1",
   "metadata": {},
   "outputs": [
    {
     "data": {
      "text/plain": [
       "1      Blue\n",
       "2     Green\n",
       "3    Orange\n",
       "0       Red\n",
       "dtype: object"
      ]
     },
     "execution_count": 17,
     "metadata": {},
     "output_type": "execute_result"
    }
   ],
   "source": [
    "flavors = [\"Red\", \"Blue\", \"Green\", \"Orange\"]\n",
    "gatorade=pd.Series(flavors)\n",
    "gatorade.sort_values()"
   ]
  },
  {
   "cell_type": "markdown",
   "id": "28d05817",
   "metadata": {},
   "source": [
    "EXTRACT VALUES FROM THE SERIES BY INDEX POSITION"
   ]
  },
  {
   "cell_type": "code",
   "execution_count": 11,
   "id": "00d8d62e",
   "metadata": {},
   "outputs": [
    {
     "data": {
      "text/plain": [
       "0       Bulbasaur\n",
       "1         Ivysaur\n",
       "2        Venusaur\n",
       "3      Charmander\n",
       "4      Charmeleon\n",
       "          ...    \n",
       "716       Yveltal\n",
       "717       Zygarde\n",
       "718       Diancie\n",
       "719         Hoopa\n",
       "720     Volcanion\n",
       "Name: Pokemon, Length: 721, dtype: object"
      ]
     },
     "execution_count": 11,
     "metadata": {},
     "output_type": "execute_result"
    }
   ],
   "source": [
    "import pandas as pd\n",
    "pokemon=pd.read_csv(\"pokemon.csv\",usecols=[\"Pokemon\"]).squeeze(\"columns\")\n",
    "pokemon\n"
   ]
  },
  {
   "cell_type": "code",
   "execution_count": 12,
   "id": "5741b4b6",
   "metadata": {},
   "outputs": [
    {
     "data": {
      "text/plain": [
       "'Ivysaur'"
      ]
     },
     "execution_count": 12,
     "metadata": {},
     "output_type": "execute_result"
    }
   ],
   "source": [
    "pokemon[1]"
   ]
  },
  {
   "cell_type": "code",
   "execution_count": 14,
   "id": "97a42bbd",
   "metadata": {},
   "outputs": [],
   "source": [
    "#pokemon[722] -> mistake"
   ]
  },
  {
   "cell_type": "code",
   "execution_count": 16,
   "id": "ecd14d35",
   "metadata": {},
   "outputs": [],
   "source": [
    "#pokemon[-20]  -> mistake"
   ]
  },
  {
   "cell_type": "code",
   "execution_count": 17,
   "id": "fadfebd2",
   "metadata": {},
   "outputs": [
    {
     "data": {
      "text/plain": [
       "701      Dedenne\n",
       "702      Carbink\n",
       "703        Goomy\n",
       "704      Sliggoo\n",
       "705       Goodra\n",
       "706       Klefki\n",
       "707     Phantump\n",
       "708    Trevenant\n",
       "709    Pumpkaboo\n",
       "710    Gourgeist\n",
       "Name: Pokemon, dtype: object"
      ]
     },
     "execution_count": 17,
     "metadata": {},
     "output_type": "execute_result"
    }
   ],
   "source": [
    "pokemon[-20:-10]"
   ]
  },
  {
   "cell_type": "code",
   "execution_count": 19,
   "id": "9882c9d1",
   "metadata": {},
   "outputs": [
    {
     "data": {
      "text/plain": [
       "'Bulbasaur'"
      ]
     },
     "execution_count": 19,
     "metadata": {},
     "output_type": "execute_result"
    }
   ],
   "source": [
    "pokemon[0]"
   ]
  },
  {
   "cell_type": "markdown",
   "id": "1716a205",
   "metadata": {},
   "source": [
    "EXTRACT VALUES FROM THE SERIES USING INDEX LABEL"
   ]
  },
  {
   "cell_type": "code",
   "execution_count": 21,
   "id": "25e02cf1",
   "metadata": {},
   "outputs": [
    {
     "data": {
      "text/plain": [
       "Pokemon\n",
       "Bulbasaur     Grass\n",
       "Ivysaur       Grass\n",
       "Venusaur      Grass\n",
       "Charmander     Fire\n",
       "Charmeleon     Fire\n",
       "Name: Type, dtype: object"
      ]
     },
     "execution_count": 21,
     "metadata": {},
     "output_type": "execute_result"
    }
   ],
   "source": [
    "pokemon=pd.read_csv(\"pokemon.csv\",index_col=\"Pokemon\").squeeze()\n",
    "pokemon.head()"
   ]
  },
  {
   "cell_type": "code",
   "execution_count": 22,
   "id": "0c238df5",
   "metadata": {},
   "outputs": [
    {
     "data": {
      "text/plain": [
       "'Grass'"
      ]
     },
     "execution_count": 22,
     "metadata": {},
     "output_type": "execute_result"
    }
   ],
   "source": [
    "pokemon[\"Bulbasaur\"]"
   ]
  },
  {
   "cell_type": "code",
   "execution_count": 25,
   "id": "bb7428a8",
   "metadata": {},
   "outputs": [
    {
     "data": {
      "text/plain": [
       "Pokemon\n",
       "Electrode     Electric\n",
       "Exeggcute        Grass\n",
       "Exeggutor        Grass\n",
       "Cubone          Ground\n",
       "Marowak         Ground\n",
       "                ...   \n",
       "Espeon         Psychic\n",
       "Umbreon           Dark\n",
       "Murkrow           Dark\n",
       "Slowking         Water\n",
       "Misdreavus       Ghost\n",
       "Name: Type, Length: 100, dtype: object"
      ]
     },
     "execution_count": 25,
     "metadata": {},
     "output_type": "execute_result"
    }
   ],
   "source": [
    "pokemon[0] #still work\n",
    "pokemon[100:200]"
   ]
  },
  {
   "cell_type": "code",
   "execution_count": 24,
   "id": "3b1bcd4b",
   "metadata": {},
   "outputs": [
    {
     "data": {
      "text/plain": [
       "Pokemon\n",
       "Bulbasaur    Grass\n",
       "Ivysaur      Grass\n",
       "Venusaur     Grass\n",
       "Name: Type, dtype: object"
      ]
     },
     "execution_count": 24,
     "metadata": {},
     "output_type": "execute_result"
    }
   ],
   "source": [
    "pokemon[[\"Bulbasaur\",\"Ivysaur\",\"Venusaur\"]]"
   ]
  },
  {
   "cell_type": "markdown",
   "id": "1363d7ee",
   "metadata": {},
   "source": [
    "GET METHOD IN SERIES ( similar to the slicing values ) with some advantages"
   ]
  },
  {
   "cell_type": "code",
   "execution_count": 26,
   "id": "6a742ac2",
   "metadata": {},
   "outputs": [],
   "source": [
    "# you can get None for non-exist values instead of \"Error\" as with the previous slicing way"
   ]
  },
  {
   "cell_type": "code",
   "execution_count": 27,
   "id": "6e2421a1",
   "metadata": {},
   "outputs": [
    {
     "data": {
      "text/plain": [
       "'Grass'"
      ]
     },
     "execution_count": 27,
     "metadata": {},
     "output_type": "execute_result"
    }
   ],
   "source": [
    "pokemon.get(0)"
   ]
  },
  {
   "cell_type": "code",
   "execution_count": 29,
   "id": "6ad14327",
   "metadata": {},
   "outputs": [
    {
     "data": {
      "text/plain": [
       "'Grass'"
      ]
     },
     "execution_count": 29,
     "metadata": {},
     "output_type": "execute_result"
    }
   ],
   "source": [
    "pokemon.get(\"Ivysaur\")"
   ]
  },
  {
   "cell_type": "code",
   "execution_count": 30,
   "id": "81b477e2",
   "metadata": {},
   "outputs": [
    {
     "data": {
      "text/plain": [
       "Pokemon\n",
       "Bulbasaur    Grass\n",
       "Ivysaur      Grass\n",
       "Venusaur     Grass\n",
       "Name: Type, dtype: object"
      ]
     },
     "execution_count": 30,
     "metadata": {},
     "output_type": "execute_result"
    }
   ],
   "source": [
    "pokemon.get([\"Bulbasaur\",\"Ivysaur\",\"Venusaur\"])"
   ]
  },
  {
   "cell_type": "code",
   "execution_count": 32,
   "id": "9c56b0a8",
   "metadata": {},
   "outputs": [
    {
     "name": "stdout",
     "output_type": "stream",
     "text": [
      "None\n"
     ]
    }
   ],
   "source": [
    "pokemon.get(\"Hallo\") #nothingness exist means that None exist, to get None, print()\n",
    "print(pokemon.get(\"Hallo\"))"
   ]
  },
  {
   "cell_type": "code",
   "execution_count": 33,
   "id": "bd9d4625",
   "metadata": {},
   "outputs": [],
   "source": [
    "#You can customize what to print out when the nothingness exist instead of the None default"
   ]
  },
  {
   "cell_type": "code",
   "execution_count": 35,
   "id": "f5d4bc42",
   "metadata": {},
   "outputs": [
    {
     "data": {
      "text/plain": [
       "'nonexistant'"
      ]
     },
     "execution_count": 35,
     "metadata": {},
     "output_type": "execute_result"
    }
   ],
   "source": [
    "pokemon.get(\"Hallo\",\"nonexistant\")"
   ]
  },
  {
   "cell_type": "code",
   "execution_count": 36,
   "id": "2a7d5b5c",
   "metadata": {},
   "outputs": [
    {
     "data": {
      "text/plain": [
       "'Nothinghere'"
      ]
     },
     "execution_count": 36,
     "metadata": {},
     "output_type": "execute_result"
    }
   ],
   "source": [
    "pokemon.get([\"Ivysaur\",\"Venusar\"],\"Nothinghere\")"
   ]
  },
  {
   "cell_type": "code",
   "execution_count": 5,
   "id": "b80abf68",
   "metadata": {},
   "outputs": [
    {
     "data": {
      "text/plain": [
       "Pokemon\n",
       "Bulbasaur       Grass\n",
       "Ivysaur         Grass\n",
       "Venusaur        Grass\n",
       "Charmander       Fire\n",
       "Charmeleon       Fire\n",
       "               ...   \n",
       "Yveltal          Dark\n",
       "Zygarde        Dragon\n",
       "Diancie          Rock\n",
       "Hoopa         Psychic\n",
       "Volcanion        Fire\n",
       "Name: Type, Length: 721, dtype: object"
      ]
     },
     "execution_count": 5,
     "metadata": {},
     "output_type": "execute_result"
    }
   ],
   "source": [
    "import pandas as pd\n",
    "pokemon=pd.read_csv(\"pokemon.csv\",index_col=\"Pokemon\").squeeze()\n",
    "pokemon"
   ]
  },
  {
   "cell_type": "code",
   "execution_count": 6,
   "id": "591cf59e",
   "metadata": {},
   "outputs": [],
   "source": [
    "pokemon[\"Bulbasaur\"]=\"Nie Grass\""
   ]
  },
  {
   "cell_type": "code",
   "execution_count": 7,
   "id": "2438b514",
   "metadata": {},
   "outputs": [
    {
     "data": {
      "text/plain": [
       "Pokemon\n",
       "Bulbasaur     Nie Grass\n",
       "Ivysaur           Grass\n",
       "Venusaur          Grass\n",
       "Charmander         Fire\n",
       "Charmeleon         Fire\n",
       "                ...    \n",
       "Yveltal            Dark\n",
       "Zygarde          Dragon\n",
       "Diancie            Rock\n",
       "Hoopa           Psychic\n",
       "Volcanion          Fire\n",
       "Name: Type, Length: 721, dtype: object"
      ]
     },
     "execution_count": 7,
     "metadata": {},
     "output_type": "execute_result"
    }
   ],
   "source": [
    "pokemon"
   ]
  },
  {
   "cell_type": "markdown",
   "id": "ada6d764",
   "metadata": {},
   "source": [
    "#customize/overwrite(rewrie+add) values : both with identifier(index,default index) or the label"
   ]
  },
  {
   "cell_type": "code",
   "execution_count": 9,
   "id": "3331da27",
   "metadata": {},
   "outputs": [],
   "source": [
    "pokemon[0]=\"Grass Again\""
   ]
  },
  {
   "cell_type": "code",
   "execution_count": 10,
   "id": "d4d01fc5",
   "metadata": {},
   "outputs": [],
   "source": [
    "pokemon[1]=\"Helloo\""
   ]
  },
  {
   "cell_type": "code",
   "execution_count": 11,
   "id": "e132ee14",
   "metadata": {},
   "outputs": [
    {
     "data": {
      "text/plain": [
       "Pokemon\n",
       "Bulbasaur     Grass Again\n",
       "Ivysaur            Helloo\n",
       "Venusaur            Grass\n",
       "Charmander           Fire\n",
       "Charmeleon           Fire\n",
       "                 ...     \n",
       "Yveltal              Dark\n",
       "Zygarde            Dragon\n",
       "Diancie              Rock\n",
       "Hoopa             Psychic\n",
       "Volcanion            Fire\n",
       "Name: Type, Length: 721, dtype: object"
      ]
     },
     "execution_count": 11,
     "metadata": {},
     "output_type": "execute_result"
    }
   ],
   "source": [
    "pokemon"
   ]
  },
  {
   "cell_type": "code",
   "execution_count": 13,
   "id": "79efb0ff",
   "metadata": {},
   "outputs": [
    {
     "data": {
      "text/plain": [
       "0        nie wiem\n",
       "1         Ivysaur\n",
       "2        Venusaur\n",
       "3      Charmander\n",
       "4      Charmeleon\n",
       "          ...    \n",
       "716       Yveltal\n",
       "717       Zygarde\n",
       "718       Diancie\n",
       "719         Hoopa\n",
       "720     Volcanion\n",
       "Name: Pokemon, Length: 721, dtype: object"
      ]
     },
     "execution_count": 13,
     "metadata": {},
     "output_type": "execute_result"
    }
   ],
   "source": [
    "pokemon_df=pd.read_csv(\"pokemon.csv\",usecols=[\"Pokemon\"])\n",
    "# DOOR, a view of HOUSE ( Door-pure series, House-pure data frame(df))\n",
    "pokemon_series=pokemon_df.squeeze()\n",
    "pokemon_series[0]='nie wiem'\n",
    "pokemon_series"
   ]
  },
  {
   "cell_type": "code",
   "execution_count": 15,
   "id": "33ed1d23",
   "metadata": {},
   "outputs": [
    {
     "data": {
      "text/plain": [
       "0        nie wiem\n",
       "1         Ivysaur\n",
       "2        Venusaur\n",
       "3      Charmander\n",
       "4      Charmeleon\n",
       "          ...    \n",
       "716       Yveltal\n",
       "717       Zygarde\n",
       "718       Diancie\n",
       "719         Hoopa\n",
       "720     Volcanion\n",
       "Name: Pokemon, Length: 721, dtype: object"
      ]
     },
     "execution_count": 15,
     "metadata": {},
     "output_type": "execute_result"
    }
   ],
   "source": [
    "#make a copy and without affecting the original"
   ]
  },
  {
   "cell_type": "code",
   "execution_count": 16,
   "id": "428d55c9",
   "metadata": {},
   "outputs": [
    {
     "data": {
      "text/plain": [
       "0        50.12\n",
       "1        54.10\n",
       "2        54.65\n",
       "3        52.38\n",
       "4        52.95\n",
       "         ...  \n",
       "3007    772.88\n",
       "3008    771.07\n",
       "3009    773.18\n",
       "3010    771.61\n",
       "3011    782.22\n",
       "Name: Stock Price, Length: 3012, dtype: float64"
      ]
     },
     "execution_count": 16,
     "metadata": {},
     "output_type": "execute_result"
    }
   ],
   "source": [
    "google_df=pd.read_csv(\"google_stock_price.csv\",usecols=[\"Stock Price\"])\n",
    "google_series_copy=google_df.squeeze().copy()\n",
    "google_series_copy"
   ]
  },
  {
   "cell_type": "code",
   "execution_count": 17,
   "id": "b3d94201",
   "metadata": {},
   "outputs": [],
   "source": [
    "google_series_copy[0]=\"Hello\""
   ]
  },
  {
   "cell_type": "code",
   "execution_count": 18,
   "id": "b81bb423",
   "metadata": {},
   "outputs": [
    {
     "data": {
      "text/html": [
       "<div>\n",
       "<style scoped>\n",
       "    .dataframe tbody tr th:only-of-type {\n",
       "        vertical-align: middle;\n",
       "    }\n",
       "\n",
       "    .dataframe tbody tr th {\n",
       "        vertical-align: top;\n",
       "    }\n",
       "\n",
       "    .dataframe thead th {\n",
       "        text-align: right;\n",
       "    }\n",
       "</style>\n",
       "<table border=\"1\" class=\"dataframe\">\n",
       "  <thead>\n",
       "    <tr style=\"text-align: right;\">\n",
       "      <th></th>\n",
       "      <th>Stock Price</th>\n",
       "    </tr>\n",
       "  </thead>\n",
       "  <tbody>\n",
       "    <tr>\n",
       "      <th>0</th>\n",
       "      <td>50.12</td>\n",
       "    </tr>\n",
       "    <tr>\n",
       "      <th>1</th>\n",
       "      <td>54.10</td>\n",
       "    </tr>\n",
       "    <tr>\n",
       "      <th>2</th>\n",
       "      <td>54.65</td>\n",
       "    </tr>\n",
       "    <tr>\n",
       "      <th>3</th>\n",
       "      <td>52.38</td>\n",
       "    </tr>\n",
       "    <tr>\n",
       "      <th>4</th>\n",
       "      <td>52.95</td>\n",
       "    </tr>\n",
       "    <tr>\n",
       "      <th>...</th>\n",
       "      <td>...</td>\n",
       "    </tr>\n",
       "    <tr>\n",
       "      <th>3007</th>\n",
       "      <td>772.88</td>\n",
       "    </tr>\n",
       "    <tr>\n",
       "      <th>3008</th>\n",
       "      <td>771.07</td>\n",
       "    </tr>\n",
       "    <tr>\n",
       "      <th>3009</th>\n",
       "      <td>773.18</td>\n",
       "    </tr>\n",
       "    <tr>\n",
       "      <th>3010</th>\n",
       "      <td>771.61</td>\n",
       "    </tr>\n",
       "    <tr>\n",
       "      <th>3011</th>\n",
       "      <td>782.22</td>\n",
       "    </tr>\n",
       "  </tbody>\n",
       "</table>\n",
       "<p>3012 rows × 1 columns</p>\n",
       "</div>"
      ],
      "text/plain": [
       "      Stock Price\n",
       "0           50.12\n",
       "1           54.10\n",
       "2           54.65\n",
       "3           52.38\n",
       "4           52.95\n",
       "...           ...\n",
       "3007       772.88\n",
       "3008       771.07\n",
       "3009       773.18\n",
       "3010       771.61\n",
       "3011       782.22\n",
       "\n",
       "[3012 rows x 1 columns]"
      ]
     },
     "execution_count": 18,
     "metadata": {},
     "output_type": "execute_result"
    }
   ],
   "source": [
    "google_df"
   ]
  },
  {
   "cell_type": "code",
   "execution_count": 19,
   "id": "132bb0eb",
   "metadata": {},
   "outputs": [
    {
     "data": {
      "text/plain": [
       "0        Hello\n",
       "1         54.1\n",
       "2        54.65\n",
       "3        52.38\n",
       "4        52.95\n",
       "         ...  \n",
       "3007    772.88\n",
       "3008    771.07\n",
       "3009    773.18\n",
       "3010    771.61\n",
       "3011    782.22\n",
       "Name: Stock Price, Length: 3012, dtype: object"
      ]
     },
     "execution_count": 19,
     "metadata": {},
     "output_type": "execute_result"
    }
   ],
   "source": [
    "google_series_copy"
   ]
  },
  {
   "cell_type": "markdown",
   "id": "1061ab47",
   "metadata": {},
   "source": [
    "In-place Paramter in the () of some METHODS"
   ]
  },
  {
   "cell_type": "code",
   "execution_count": 45,
   "id": "5ddae4b3",
   "metadata": {},
   "outputs": [],
   "source": [
    "import pandas as pd\n",
    "google=(\n",
    "    pd.read_csv(\"google_stock_price.csv\",\n",
    "    usecols=[\"Stock Price\"])\n",
    "    .squeeze(\"columns\")\n",
    "    .copy()\n",
    ")\n",
    "    \n",
    "    "
   ]
  },
  {
   "cell_type": "code",
   "execution_count": 46,
   "id": "eca1961a",
   "metadata": {},
   "outputs": [
    {
     "data": {
      "text/plain": [
       "0        50.12\n",
       "1        54.10\n",
       "2        54.65\n",
       "3        52.38\n",
       "4        52.95\n",
       "         ...  \n",
       "3007    772.88\n",
       "3008    771.07\n",
       "3009    773.18\n",
       "3010    771.61\n",
       "3011    782.22\n",
       "Name: Stock Price, Length: 3012, dtype: float64"
      ]
     },
     "execution_count": 46,
     "metadata": {},
     "output_type": "execute_result"
    }
   ],
   "source": [
    "google"
   ]
  },
  {
   "cell_type": "code",
   "execution_count": 47,
   "id": "9570b741",
   "metadata": {},
   "outputs": [],
   "source": [
    "google=google.sort_values()"
   ]
  },
  {
   "cell_type": "code",
   "execution_count": 41,
   "id": "dd9e1e17",
   "metadata": {},
   "outputs": [
    {
     "data": {
      "text/plain": [
       "11       49.95\n",
       "9        50.07\n",
       "0        50.12\n",
       "10       50.70\n",
       "12       50.74\n",
       "         ...  \n",
       "3010    771.61\n",
       "3007    772.88\n",
       "3009    773.18\n",
       "2859    776.60\n",
       "3011    782.22\n",
       "Name: Stock Price, Length: 3012, dtype: float64"
      ]
     },
     "execution_count": 41,
     "metadata": {},
     "output_type": "execute_result"
    }
   ],
   "source": [
    "google\n"
   ]
  },
  {
   "cell_type": "code",
   "execution_count": 42,
   "id": "89a9b4fb",
   "metadata": {},
   "outputs": [],
   "source": [
    "#in-place method : invoked methods will have permanent impact on the original if the \"inplace=True\", normally inplace paramter is False defaultly\n"
   ]
  },
  {
   "cell_type": "code",
   "execution_count": 58,
   "id": "afc04997",
   "metadata": {},
   "outputs": [],
   "source": [
    "import pandas as pd\n",
    "google2=pd.read_csv(\"google_stock_price.csv\",usecols=[\"Stock Price\"]).squeeze().copy()\n",
    "google2.sort_values(inplace=True)\n"
   ]
  },
  {
   "cell_type": "code",
   "execution_count": 59,
   "id": "3b3a3680",
   "metadata": {},
   "outputs": [
    {
     "data": {
      "text/plain": [
       "11       49.95\n",
       "9        50.07\n",
       "0        50.12\n",
       "10       50.70\n",
       "12       50.74\n",
       "         ...  \n",
       "3010    771.61\n",
       "3007    772.88\n",
       "3009    773.18\n",
       "2859    776.60\n",
       "3011    782.22\n",
       "Name: Stock Price, Length: 3012, dtype: float64"
      ]
     },
     "execution_count": 59,
     "metadata": {},
     "output_type": "execute_result"
    }
   ],
   "source": [
    "google2"
   ]
  },
  {
   "cell_type": "markdown",
   "id": "416cd80e",
   "metadata": {},
   "source": [
    "MATHEMATICS METHODS ON SERIES"
   ]
  },
  {
   "cell_type": "code",
   "execution_count": 60,
   "id": "1776fa47",
   "metadata": {},
   "outputs": [
    {
     "data": {
      "text/plain": [
       "3012"
      ]
     },
     "execution_count": 60,
     "metadata": {},
     "output_type": "execute_result"
    }
   ],
   "source": [
    "\n",
    "google=pd.read_csv(\"google_stock_price.csv\",usecols=[\"Stock Price\"]).squeeze()\n",
    "google.sum()\n",
    "google.mean()\n",
    "google.product()\n",
    "google.max()\n",
    "google.min()\n",
    "google.std()\n",
    "google.count()\n"
   ]
  },
  {
   "cell_type": "code",
   "execution_count": 61,
   "id": "e4dffb29",
   "metadata": {},
   "outputs": [
    {
     "data": {
      "text/plain": [
       "283.315"
      ]
     },
     "execution_count": 61,
     "metadata": {},
     "output_type": "execute_result"
    }
   ],
   "source": [
    "google.median()"
   ]
  },
  {
   "cell_type": "code",
   "execution_count": 62,
   "id": "e89cb728",
   "metadata": {},
   "outputs": [
    {
     "data": {
      "text/plain": [
       "0    291.21\n",
       "Name: Stock Price, dtype: float64"
      ]
     },
     "execution_count": 62,
     "metadata": {},
     "output_type": "execute_result"
    }
   ],
   "source": [
    "google.mode()"
   ]
  },
  {
   "cell_type": "code",
   "execution_count": 63,
   "id": "b9a7fc27",
   "metadata": {},
   "outputs": [
    {
     "data": {
      "text/plain": [
       "count    3012.000000\n",
       "mean      334.310093\n",
       "std       173.187205\n",
       "min        49.950000\n",
       "25%       218.045000\n",
       "50%       283.315000\n",
       "75%       443.000000\n",
       "max       782.220000\n",
       "Name: Stock Price, dtype: float64"
      ]
     },
     "execution_count": 63,
     "metadata": {},
     "output_type": "execute_result"
    }
   ],
   "source": [
    "google.describe()  #giving you the descriptive statistics description for you "
   ]
  },
  {
   "cell_type": "markdown",
   "id": "f5ec5f75",
   "metadata": {},
   "source": [
    "Broadcasting"
   ]
  },
  {
   "cell_type": "code",
   "execution_count": 64,
   "id": "2cc5ac65",
   "metadata": {},
   "outputs": [
    {
     "data": {
      "text/plain": [
       "0        80.12\n",
       "1        84.10\n",
       "2        84.65\n",
       "3        82.38\n",
       "4        82.95\n",
       "         ...  \n",
       "3007    802.88\n",
       "3008    801.07\n",
       "3009    803.18\n",
       "3010    801.61\n",
       "3011    812.22\n",
       "Name: Stock Price, Length: 3012, dtype: float64"
      ]
     },
     "execution_count": 64,
     "metadata": {},
     "output_type": "execute_result"
    }
   ],
   "source": [
    "google+30"
   ]
  },
  {
   "cell_type": "code",
   "execution_count": 66,
   "id": "e71f1ef3",
   "metadata": {},
   "outputs": [
    {
     "data": {
      "text/plain": [
       "0        40.12\n",
       "1        44.10\n",
       "2        44.65\n",
       "3        42.38\n",
       "4        42.95\n",
       "         ...  \n",
       "3007    762.88\n",
       "3008    761.07\n",
       "3009    763.18\n",
       "3010    761.61\n",
       "3011    772.22\n",
       "Name: Stock Price, Length: 3012, dtype: float64"
      ]
     },
     "execution_count": 66,
     "metadata": {},
     "output_type": "execute_result"
    }
   ],
   "source": [
    "google-10"
   ]
  },
  {
   "cell_type": "code",
   "execution_count": 67,
   "id": "9a1fec56",
   "metadata": {},
   "outputs": [
    {
     "data": {
      "text/plain": [
       "0        100.24\n",
       "1        108.20\n",
       "2        109.30\n",
       "3        104.76\n",
       "4        105.90\n",
       "         ...   \n",
       "3007    1545.76\n",
       "3008    1542.14\n",
       "3009    1546.36\n",
       "3010    1543.22\n",
       "3011    1564.44\n",
       "Name: Stock Price, Length: 3012, dtype: float64"
      ]
     },
     "execution_count": 67,
     "metadata": {},
     "output_type": "execute_result"
    }
   ],
   "source": [
    "google*2"
   ]
  },
  {
   "cell_type": "code",
   "execution_count": 68,
   "id": "37318ba5",
   "metadata": {},
   "outputs": [
    {
     "data": {
      "text/plain": [
       "0        61.12\n",
       "1        65.10\n",
       "2        65.65\n",
       "3        63.38\n",
       "4        63.95\n",
       "         ...  \n",
       "3007    783.88\n",
       "3008    782.07\n",
       "3009    784.18\n",
       "3010    782.61\n",
       "3011    793.22\n",
       "Name: Stock Price, Length: 3012, dtype: float64"
      ]
     },
     "execution_count": 68,
     "metadata": {},
     "output_type": "execute_result"
    }
   ],
   "source": [
    "google+11"
   ]
  },
  {
   "cell_type": "code",
   "execution_count": 69,
   "id": "72df44a8",
   "metadata": {},
   "outputs": [
    {
     "data": {
      "text/plain": [
       "0        52.12\n",
       "1        56.10\n",
       "2        56.65\n",
       "3        54.38\n",
       "4        54.95\n",
       "         ...  \n",
       "3007    774.88\n",
       "3008    773.07\n",
       "3009    775.18\n",
       "3010    773.61\n",
       "3011    784.22\n",
       "Name: Stock Price, Length: 3012, dtype: float64"
      ]
     },
     "execution_count": 69,
     "metadata": {},
     "output_type": "execute_result"
    }
   ],
   "source": [
    "google.add(2)     #all methods without the inplace turning True is just temporary, not the view "
   ]
  },
  {
   "cell_type": "code",
   "execution_count": 70,
   "id": "c4a6b90f",
   "metadata": {},
   "outputs": [
    {
     "data": {
      "text/plain": [
       "0        50.12\n",
       "1        54.10\n",
       "2        54.65\n",
       "3        52.38\n",
       "4        52.95\n",
       "         ...  \n",
       "3007    772.88\n",
       "3008    771.07\n",
       "3009    773.18\n",
       "3010    771.61\n",
       "3011    782.22\n",
       "Name: Stock Price, Length: 3012, dtype: float64"
      ]
     },
     "execution_count": 70,
     "metadata": {},
     "output_type": "execute_result"
    }
   ],
   "source": [
    "google"
   ]
  },
  {
   "cell_type": "markdown",
   "id": "9970a36e",
   "metadata": {},
   "source": [
    "value_counts methods"
   ]
  },
  {
   "cell_type": "code",
   "execution_count": null,
   "id": "2108c486",
   "metadata": {},
   "outputs": [],
   "source": [
    "pokemon=pd.read_csv(\"pokemon.csv\",usecols=\"Pokemon\").squeeze()"
   ]
  },
  {
   "cell_type": "code",
   "execution_count": 71,
   "id": "c2f4ed1b",
   "metadata": {
    "scrolled": true
   },
   "outputs": [
    {
     "data": {
      "text/plain": [
       "Pokemon\n",
       "Bulbasaur     Grass Again\n",
       "Ivysaur            Helloo\n",
       "Venusaur            Grass\n",
       "Charmander           Fire\n",
       "Charmeleon           Fire\n",
       "                 ...     \n",
       "Yveltal              Dark\n",
       "Zygarde            Dragon\n",
       "Diancie              Rock\n",
       "Hoopa             Psychic\n",
       "Volcanion            Fire\n",
       "Name: Type, Length: 721, dtype: object"
      ]
     },
     "execution_count": 71,
     "metadata": {},
     "output_type": "execute_result"
    }
   ],
   "source": [
    "pokemon"
   ]
  },
  {
   "cell_type": "code",
   "execution_count": 73,
   "id": "6b2a29b5",
   "metadata": {},
   "outputs": [
    {
     "data": {
      "text/plain": [
       "Water          105\n",
       "Normal          93\n",
       "Grass           64\n",
       "Bug             63\n",
       "Psychic         47\n",
       "Fire            47\n",
       "Rock            41\n",
       "Electric        36\n",
       "Ground          30\n",
       "Poison          28\n",
       "Dark            28\n",
       "Fighting        25\n",
       "Dragon          24\n",
       "Ghost           23\n",
       "Ice             23\n",
       "Steel           22\n",
       "Fairy           17\n",
       "Flying           3\n",
       "Helloo           1\n",
       "Grass Again      1\n",
       "Name: Type, dtype: int64"
      ]
     },
     "execution_count": 73,
     "metadata": {},
     "output_type": "execute_result"
    }
   ],
   "source": [
    "pokemon.value_counts(sort=True)"
   ]
  },
  {
   "cell_type": "code",
   "execution_count": 74,
   "id": "68928385",
   "metadata": {},
   "outputs": [
    {
     "data": {
      "text/plain": [
       "Grass Again      1\n",
       "Helloo           1\n",
       "Flying           3\n",
       "Fairy           17\n",
       "Steel           22\n",
       "Ice             23\n",
       "Ghost           23\n",
       "Dragon          24\n",
       "Fighting        25\n",
       "Dark            28\n",
       "Poison          28\n",
       "Ground          30\n",
       "Electric        36\n",
       "Rock            41\n",
       "Psychic         47\n",
       "Fire            47\n",
       "Bug             63\n",
       "Grass           64\n",
       "Normal          93\n",
       "Water          105\n",
       "Name: Type, dtype: int64"
      ]
     },
     "execution_count": 74,
     "metadata": {},
     "output_type": "execute_result"
    }
   ],
   "source": [
    "pokemon.value_counts(ascending=True)"
   ]
  },
  {
   "cell_type": "markdown",
   "id": "dfe7a5f3",
   "metadata": {},
   "source": [
    "APPLY METHODS TO THE FUNCTION by USING APPLY()"
   ]
  },
  {
   "cell_type": "code",
   "execution_count": 6,
   "id": "c144a5f9",
   "metadata": {},
   "outputs": [
    {
     "data": {
      "text/plain": [
       "Pokemon\n",
       "Bulbasaur     Grass\n",
       "Ivysaur       Grass\n",
       "Venusaur      Grass\n",
       "Charmander     Fire\n",
       "Charmeleon     Fire\n",
       "Name: Type, dtype: object"
      ]
     },
     "execution_count": 6,
     "metadata": {},
     "output_type": "execute_result"
    }
   ],
   "source": [
    "import pandas as pd\n",
    "pokemon=pd.read_csv(\"pokemon.csv\",index_col=[\"Pokemon\"]).squeeze()\n",
    "pokemon.head()"
   ]
  },
  {
   "cell_type": "code",
   "execution_count": 9,
   "id": "c5c447ef",
   "metadata": {},
   "outputs": [
    {
     "data": {
      "text/plain": [
       "Pokemon\n",
       "Bulbasaur     Classic\n",
       "Ivysaur       Classic\n",
       "Venusaur      Classic\n",
       "Charmander    Classic\n",
       "Charmeleon    Classic\n",
       "               ...   \n",
       "Yveltal           TBD\n",
       "Zygarde           TBD\n",
       "Diancie           TBD\n",
       "Hoopa             TBD\n",
       "Volcanion     Classic\n",
       "Name: Type, Length: 721, dtype: object"
      ]
     },
     "execution_count": 9,
     "metadata": {},
     "output_type": "execute_result"
    }
   ],
   "source": [
    "def rank_pokemon(pokemon_type):\n",
    "    if pokemon_type in [\"Grass\",\"Fire\",\"Water\"]:\n",
    "        return \"Classic\"\n",
    "    elif pokemon_type==\"Normal\":\n",
    "        return \"Boring\"\n",
    "    else:\n",
    "        return \"TBD\"\n",
    "pokemon.apply(rank_pokemon)  #mình apply function of rank_pokemon vào Series"
   ]
  },
  {
   "cell_type": "markdown",
   "id": "ae55e52a",
   "metadata": {},
   "source": [
    "Map METHOD "
   ]
  },
  {
   "cell_type": "code",
   "execution_count": 10,
   "id": "8373a34e",
   "metadata": {},
   "outputs": [
    {
     "data": {
      "text/plain": [
       "Pokemon\n",
       "Bulbasaur     Classic\n",
       "Ivysaur       Classic\n",
       "Venusaur      Classic\n",
       "Charmander    Classic\n",
       "Charmeleon    Classic\n",
       "               ...   \n",
       "Yveltal           NaN\n",
       "Zygarde           NaN\n",
       "Diancie           NaN\n",
       "Hoopa             NaN\n",
       "Volcanion     Classic\n",
       "Name: Type, Length: 721, dtype: object"
      ]
     },
     "execution_count": 10,
     "metadata": {},
     "output_type": "execute_result"
    }
   ],
   "source": [
    "mappings={\n",
    "    \"Grass\":\"Classic\",\n",
    "    \"Fire\":\"Classic\",\n",
    "    \"Water\":\"Classic\"\n",
    "}\n",
    "pokemon.map(mappings)"
   ]
  },
  {
   "cell_type": "code",
   "execution_count": 12,
   "id": "e598c3dc",
   "metadata": {},
   "outputs": [
    {
     "data": {
      "text/plain": [
       "Grass    Classic\n",
       "Fire     Classic\n",
       "Water    Classic\n",
       "dtype: object"
      ]
     },
     "execution_count": 12,
     "metadata": {},
     "output_type": "execute_result"
    }
   ],
   "source": [
    "#Second way we connect two series by map method\n",
    "pokemon_map_series=pd.Series(mappings)\n",
    "pokemon_map_series"
   ]
  },
  {
   "cell_type": "code",
   "execution_count": 13,
   "id": "e5d36c5f",
   "metadata": {},
   "outputs": [
    {
     "data": {
      "text/plain": [
       "Pokemon\n",
       "Bulbasaur     Classic\n",
       "Ivysaur       Classic\n",
       "Venusaur      Classic\n",
       "Charmander    Classic\n",
       "Charmeleon    Classic\n",
       "               ...   \n",
       "Yveltal           NaN\n",
       "Zygarde           NaN\n",
       "Diancie           NaN\n",
       "Hoopa             NaN\n",
       "Volcanion     Classic\n",
       "Name: Type, Length: 721, dtype: object"
      ]
     },
     "execution_count": 13,
     "metadata": {},
     "output_type": "execute_result"
    }
   ],
   "source": [
    "pokemon.map(pokemon_map_series)"
   ]
  },
  {
   "cell_type": "code",
   "execution_count": null,
   "id": "f3474354",
   "metadata": {},
   "outputs": [],
   "source": []
  }
 ],
 "metadata": {
  "kernelspec": {
   "display_name": "Python 3 (ipykernel)",
   "language": "python",
   "name": "python3"
  },
  "language_info": {
   "codemirror_mode": {
    "name": "ipython",
    "version": 3
   },
   "file_extension": ".py",
   "mimetype": "text/x-python",
   "name": "python",
   "nbconvert_exporter": "python",
   "pygments_lexer": "ipython3",
   "version": "3.11.4"
  }
 },
 "nbformat": 4,
 "nbformat_minor": 5
}
